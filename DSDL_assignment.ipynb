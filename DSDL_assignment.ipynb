{
  "nbformat": 4,
  "nbformat_minor": 0,
  "metadata": {
    "colab": {
      "provenance": []
    },
    "kernelspec": {
      "name": "python3",
      "display_name": "Python 3"
    },
    "language_info": {
      "name": "python"
    }
  },
  "cells": [
    {
      "cell_type": "code",
      "execution_count": null,
      "metadata": {
        "colab": {
          "base_uri": "https://localhost:8080/"
        },
        "id": "Cc4JfgOvX5-L",
        "outputId": "acbca005-1d46-4cb9-ea22-2a0b183360e1"
      },
      "outputs": [
        {
          "output_type": "stream",
          "name": "stdout",
          "text": [
            "Enter a number: 9\n",
            "Enter a r: 55\n",
            "Number is not Prime\n"
          ]
        }
      ],
      "source": [
        "# 1 -> Entered number is prime or not present in given range\n",
        "def is_prime(number):\n",
        "  if number<2:\n",
        "    return False\n",
        "  for i in range(2,prime):\n",
        "    if prime%i == 0:\n",
        "      return False\n",
        "  return True\n",
        "\n",
        "prime = int(input(\"Enter a number: \"))\n",
        "r = int(input(\"Enter a r: \"))\n",
        "if(2<=prime<=r):\n",
        "  if is_prime(prime):\n",
        "    print(\"Number is Prime\")\n",
        "  else:\n",
        "    print(\"Number is not Prime\")\n",
        "else:\n",
        "  print(\"Number is not in given range\")"
      ]
    },
    {
      "cell_type": "code",
      "source": [
        "# 2 -> change vowel by *\n",
        "def change_vowel(st):\n",
        "  k = \"aeiou\"\n",
        "  result = \"\"\n",
        "  for char in st:\n",
        "    if char in k:\n",
        "      result += '*'\n",
        "    else:\n",
        "      result += char\n",
        "  return result\n",
        "s = input(\"Enter a string : \")\n",
        "sf = change_vowel(s)\n",
        "print(sf)"
      ],
      "metadata": {
        "colab": {
          "base_uri": "https://localhost:8080/"
        },
        "id": "fiPBwFGZX79O",
        "outputId": "1c55d6f8-ea61-4a9e-fda9-3e6fb3839fdf"
      },
      "execution_count": null,
      "outputs": [
        {
          "output_type": "stream",
          "name": "stdout",
          "text": [
            "Enter a string : i am in delhi\n",
            "* *m *n d*lh*\n"
          ]
        }
      ]
    },
    {
      "cell_type": "code",
      "source": [
        "# 3 -> checking string is pallindrome or not\n",
        "def is_pallindrome(st):\n",
        "  reverse = st[::-1]\n",
        "  if st == reverse:\n",
        "    return True\n",
        "  else:\n",
        "    return False\n",
        "\n",
        "s = input(\"Enter a string : \")\n",
        "print(is_pallindrome(s))"
      ],
      "metadata": {
        "colab": {
          "base_uri": "https://localhost:8080/"
        },
        "id": "BCCpjyFmabk8",
        "outputId": "15c53e8c-e609-41a9-91ac-d8a12a34f432"
      },
      "execution_count": null,
      "outputs": [
        {
          "output_type": "stream",
          "name": "stdout",
          "text": [
            "Enter a string : aaabbbbaaa\n",
            "True\n"
          ]
        }
      ]
    },
    {
      "cell_type": "code",
      "source": [
        "# 4 -> finding largest and smallest number in list\n",
        "l = [1,3,5,6,8,0,8,9]\n",
        "print(max(l))\n",
        "print(min(l))"
      ],
      "metadata": {
        "colab": {
          "base_uri": "https://localhost:8080/"
        },
        "id": "RNWOzELWe566",
        "outputId": "f53346e0-6d9a-415e-ded3-c9464d487541"
      },
      "execution_count": null,
      "outputs": [
        {
          "output_type": "stream",
          "name": "stdout",
          "text": [
            "9\n",
            "0\n"
          ]
        }
      ]
    },
    {
      "cell_type": "code",
      "source": [
        "# 5 -> program to store details of students\n",
        "admission1 = {'name':'kumkum','rollno': 1 , 'percentage' : 90}\n",
        "admission2 = {'name':'arya','rollno': 2 , 'percentage' : 67}\n",
        "admission3 = {'name':'aditi','rollno': 3 , 'percentage' : 94}\n",
        "admission4 = {'name':'anushka','rollno': 4 , 'percentage' : 59}\n",
        "d = {1: admission1, 2 : admission2, 3 : admission3 , 4 : admission4}\n",
        "a = int(input(\"Enter admission number : \"))\n",
        "print(d[a])"
      ],
      "metadata": {
        "colab": {
          "base_uri": "https://localhost:8080/"
        },
        "id": "1kcnBWXtfRKT",
        "outputId": "8c76accf-1fc6-4a95-f410-567bc0ee8a57"
      },
      "execution_count": null,
      "outputs": [
        {
          "output_type": "stream",
          "name": "stdout",
          "text": [
            "Enter admission number : 2\n",
            "{'name': 'arya', 'rollno': 2, 'percentage': 67}\n"
          ]
        }
      ]
    },
    {
      "cell_type": "code",
      "source": [
        "# 6 -> program to implement python functions\n",
        "import math\n",
        "def fun(n):\n",
        "  print(\"The square of number {} is :\".format(n),n**2)\n",
        "  print(\"The log of number {} is :\".format(n),math.log(n))\n",
        "  print(\"The quad of number {} is :\".format(n),n**4)\n",
        "\n",
        "num = float(input(\"Enter a number : \"))\n",
        "fun(num)"
      ],
      "metadata": {
        "colab": {
          "base_uri": "https://localhost:8080/"
        },
        "id": "8kjlcZBrhrou",
        "outputId": "5ef5547c-bfc1-439f-f728-8bead2abde05"
      },
      "execution_count": null,
      "outputs": [
        {
          "output_type": "stream",
          "name": "stdout",
          "text": [
            "Enter a number : 3\n",
            "The square of number 3.0 is : 9.0\n",
            "The log of number 3.0 is : 1.0986122886681098\n",
            "The quad of number 3.0 is : 81.0\n"
          ]
        }
      ]
    },
    {
      "cell_type": "code",
      "source": [
        "# 7 -> program to perform arithmetic operations\n",
        "a = int(input(\"Enter 1st number : \"))\n",
        "op = input(\"Enter a operation(+,-,*,/) : \")\n",
        "b = int(input(\"Enter 2nd number : \"))\n",
        "if op=='+':\n",
        "  print(a+b)\n",
        "elif op == '-':\n",
        "  print(a-b)\n",
        "elif op == '*':\n",
        "  print(a*b)\n",
        "elif op == '/':\n",
        "  print(a/b)\n",
        "else:\n",
        "  print(\"Invalid Number\")"
      ],
      "metadata": {
        "colab": {
          "base_uri": "https://localhost:8080/"
        },
        "id": "dDW1TtGckVvx",
        "outputId": "416adfd0-727e-49fb-a308-587fe406c187"
      },
      "execution_count": null,
      "outputs": [
        {
          "output_type": "stream",
          "name": "stdout",
          "text": [
            "Enter 1st number : 4\n",
            "Enter a operation(+,-,*,/) : *\n",
            "Enter 2nd number : 5\n",
            "20\n"
          ]
        }
      ]
    },
    {
      "cell_type": "code",
      "source": [
        "# 8 -> print fibbonaci series\n",
        "def fibbi(n):\n",
        "  a = 0\n",
        "  b = 1\n",
        "  print(a , end=\" \")\n",
        "  print(b , end=\" \")\n",
        "  for i in range(1,n-2):\n",
        "    sum = a+b\n",
        "    print(sum , end=\" \")\n",
        "    a = b\n",
        "    b = sum\n",
        "\n",
        "num = int(input(\"Enter a number : \"))\n",
        "fibbi(num)"
      ],
      "metadata": {
        "colab": {
          "base_uri": "https://localhost:8080/"
        },
        "id": "zx9xHorwmArM",
        "outputId": "80806bb2-0b86-42fd-a77d-2cf3b7cc5fbb"
      },
      "execution_count": null,
      "outputs": [
        {
          "output_type": "stream",
          "name": "stdout",
          "text": [
            "Enter a number : 8\n",
            "0 1 1 2 3 5 8 "
          ]
        }
      ]
    },
    {
      "cell_type": "code",
      "source": [
        "# 9 -> find factorial and sum of numbers in the list\n",
        "def su(ls):\n",
        "  s = 0\n",
        "  for i in ls:\n",
        "    s = s + i\n",
        "  return s\n",
        "\n",
        "def fact(lf):\n",
        "  for i in lf:\n",
        "    a = 1\n",
        "    while(i>1):\n",
        "      a *= i\n",
        "      i -= 1\n",
        "    print(a)\n",
        "\n",
        "l = [1,3,5,6]\n",
        "fact(l)\n",
        "print(\"the sum of list elements is\",su(l))"
      ],
      "metadata": {
        "id": "5E75seTDne6H",
        "colab": {
          "base_uri": "https://localhost:8080/"
        },
        "outputId": "2c52c58b-b186-4a14-9ac6-4a36855a2cd0"
      },
      "execution_count": 8,
      "outputs": [
        {
          "output_type": "stream",
          "name": "stdout",
          "text": [
            "1\n",
            "6\n",
            "120\n",
            "720\n",
            "the sum of list elements is 15\n"
          ]
        }
      ]
    },
    {
      "cell_type": "code",
      "source": [
        "# 10 -> sum 10times of even values\n",
        "def sum(l):\n",
        "  s = 0\n",
        "  for i in l:\n",
        "    if i%2 == 0:\n",
        "      s = s + (i*10)\n",
        "  return s\n",
        "li = [1,2,4,5,6,7]\n",
        "print(\"the 10time sum of even number is:\",sum(li))"
      ],
      "metadata": {
        "colab": {
          "base_uri": "https://localhost:8080/"
        },
        "id": "S2-dI4IriGv7",
        "outputId": "20e19d6c-14d7-4eb0-8e90-ff09ea73bbec"
      },
      "execution_count": 9,
      "outputs": [
        {
          "output_type": "stream",
          "name": "stdout",
          "text": [
            "the 10time sum of even number is: 120\n"
          ]
        }
      ]
    },
    {
      "cell_type": "code",
      "source": [
        "# 11 -> printing only list item having A at their end\n",
        "def having_A(l):\n",
        "  for i in l:\n",
        "    if i.endswith('A'):\n",
        "      print(i)\n",
        "\n",
        "li = ['JAYA','KAREEM','TARUNA','LOVISH']\n",
        "having_A(li)"
      ],
      "metadata": {
        "colab": {
          "base_uri": "https://localhost:8080/"
        },
        "id": "6SzN8DuDlP5a",
        "outputId": "b8fc6d50-b664-42ea-9136-1e6759889b96"
      },
      "execution_count": 10,
      "outputs": [
        {
          "output_type": "stream",
          "name": "stdout",
          "text": [
            "JAYA\n",
            "TARUNA\n"
          ]
        }
      ]
    },
    {
      "cell_type": "code",
      "source": [
        "# 12 -> read line by line and displaying each word by seperated by #\n",
        "file_path = '/content/sample_data/file1'  # Replace with the actual path to your text file\n",
        "with open(file_path, 'r') as file:\n",
        "    for line in file:\n",
        "        words = line.split()\n",
        "        for word in words:\n",
        "            print(word, end='#')\n",
        "        print()\n"
      ],
      "metadata": {
        "colab": {
          "base_uri": "https://localhost:8080/"
        },
        "id": "CQc9cTlymduj",
        "outputId": "3d7dd667-b790-4d23-c65f-e61c994cd3e8"
      },
      "execution_count": 12,
      "outputs": [
        {
          "output_type": "stream",
          "name": "stdout",
          "text": [
            "This#is#a#sample#text#file.#\n",
            "It#contains#multiple#lines.#\n",
            "Each#line#has#some#words.#\n"
          ]
        }
      ]
    },
    {
      "cell_type": "code",
      "source": [
        "# 13 -> display number of vowel ,consonants,lowecase and uppercase\n",
        "file_path = '/content/sample_data/file1'\n",
        "with open(file_path, 'r') as file:\n",
        "    content = file.read()\n",
        "\n",
        "def is_vowel(char):\n",
        "    vowels = \"aeiouAEIOU\"\n",
        "    return char in vowels\n",
        "\n",
        "vowel_count = 0\n",
        "consonant_count = 0\n",
        "lowercase_count = 0\n",
        "uppercase_count = 0\n",
        "\n",
        "for char in content:\n",
        "    if char.isalpha():\n",
        "        if is_vowel(char):\n",
        "            vowel_count += 1\n",
        "        else:\n",
        "            consonant_count += 1\n",
        "\n",
        "        if char.islower():\n",
        "            lowercase_count += 1\n",
        "        elif char.isupper():\n",
        "            uppercase_count += 1\n",
        "\n",
        "print(\"Number of vowels:\", vowel_count)\n",
        "print(\"Number of consonants:\", consonant_count)\n",
        "print(\"Number of lowercase letters:\", lowercase_count)\n",
        "print(\"Number of uppercase letters:\", uppercase_count)\n"
      ],
      "metadata": {
        "colab": {
          "base_uri": "https://localhost:8080/"
        },
        "id": "SuWG3ihnryaN",
        "outputId": "b602db8e-05ee-4bb8-a2b7-406b9f613a07"
      },
      "execution_count": 13,
      "outputs": [
        {
          "output_type": "stream",
          "name": "stdout",
          "text": [
            "Number of vowels: 25\n",
            "Number of consonants: 39\n",
            "Number of lowercase letters: 61\n",
            "Number of uppercase letters: 3\n"
          ]
        }
      ]
    },
    {
      "cell_type": "code",
      "source": [
        "# 14 -> remove lines with 'a' and copied it to other file\n",
        "def filter_lines(input_path, output_path):\n",
        "    with open(input_path, 'r') as input_file:\n",
        "        filtered_lines = [line for line in input_file if 'a' not in line]\n",
        "\n",
        "    with open(output_path, 'w') as output_file:\n",
        "        output_file.writelines(filtered_lines)\n",
        "\n",
        "input_file_path = '/content/sample_data/file1'\n",
        "output_file_path = '/content/sample_data/file2'\n",
        "\n",
        "filter_lines(input_file_path, output_file_path)\n",
        "\n",
        "with open(output_file_path, 'r') as output_file:\n",
        "    content = output_file.read()\n",
        "    print(\"Content of the new file:\")\n",
        "    print(content)\n"
      ],
      "metadata": {
        "colab": {
          "base_uri": "https://localhost:8080/"
        },
        "id": "0iY6XcLas41P",
        "outputId": "9e132574-a2a6-4605-81c0-8d77976d9615"
      },
      "execution_count": 15,
      "outputs": [
        {
          "output_type": "stream",
          "name": "stdout",
          "text": [
            "Content of the new file:\n",
            "\n"
          ]
        }
      ]
    },
    {
      "cell_type": "code",
      "source": [
        "# 15 -> to count 'to' and 'the' in a poem file\n",
        "def count_words(file_path):\n",
        "    to_count = 0\n",
        "    the_count = 0\n",
        "    with open(file_path, 'r') as file:\n",
        "        content = file.read()\n",
        "        words = content.split()\n",
        "        to_count = words.count('to')\n",
        "        the_count = words.count('the')\n",
        "    return to_count, the_count\n",
        "\n",
        "file_path = '/content/sample_data/poem'\n",
        "\n",
        "to_count, the_count = count_words(file_path)\n",
        "\n",
        "print(\"Occurrences of 'to':\", to_count)\n",
        "print(\"Occurrences of 'the':\", the_count)\n"
      ],
      "metadata": {
        "colab": {
          "base_uri": "https://localhost:8080/"
        },
        "id": "xZU_l2GlvR7S",
        "outputId": "6c1d3708-7768-4ae3-b5f8-e1a0c81b7064"
      },
      "execution_count": 18,
      "outputs": [
        {
          "output_type": "stream",
          "name": "stdout",
          "text": [
            "Occurrences of 'to': 0\n",
            "Occurrences of 'the': 0\n"
          ]
        }
      ]
    },
    {
      "cell_type": "code",
      "source": [
        "#  17 -> count the occurence of each word in a file\n",
        "from collections import Counter\n",
        "import string\n",
        "\n",
        "def count_word_occurrences(file_path):\n",
        "    with open(file_path, 'r') as file:\n",
        "        content = file.read().lower()\n",
        "        content = content.translate(str.maketrans('', '', string.punctuation))\n",
        "        words = content.split()\n",
        "        word_counts = Counter(words)\n",
        "    return word_counts\n",
        "\n",
        "file_path = '/content/sample_data/file1'\n",
        "word_counts = count_word_occurrences(file_path)\n",
        "print(\"Word occurrences in the text file:\")\n",
        "for word, count in word_counts.items():\n",
        "    print(f\"{word}: {count}\")\n"
      ],
      "metadata": {
        "colab": {
          "base_uri": "https://localhost:8080/"
        },
        "id": "YUCXkAaVwcCS",
        "outputId": "bd52a0fa-6d81-4666-ba90-b1f33543056f"
      },
      "execution_count": 20,
      "outputs": [
        {
          "output_type": "stream",
          "name": "stdout",
          "text": [
            "Word occurrences in the text file:\n",
            "this: 1\n",
            "is: 1\n",
            "a: 1\n",
            "sample: 1\n",
            "text: 1\n",
            "file: 1\n",
            "it: 1\n",
            "contains: 1\n",
            "multiple: 1\n",
            "lines: 1\n",
            "each: 1\n",
            "line: 1\n",
            "hs: 1\n",
            "some: 1\n",
            "words: 1\n"
          ]
        }
      ]
    },
    {
      "cell_type": "code",
      "source": [
        "#  18 -> count number of words in a line\n",
        "def count_words(file_path):\n",
        "    with open(file_path, 'r') as file:\n",
        "        content = file.read()\n",
        "        words = content.split()\n",
        "        word_count = len(words)\n",
        "    return word_count\n",
        "\n",
        "file_path = '/content/sample_data/file1'\n",
        "word_count = count_words(file_path)\n",
        "print(\"Number of words in the text file:\", word_count)\n"
      ],
      "metadata": {
        "colab": {
          "base_uri": "https://localhost:8080/"
        },
        "id": "b2Vjd80I01fo",
        "outputId": "4dca2bbf-234d-44e8-d8e4-c752cf35a93b"
      },
      "execution_count": 21,
      "outputs": [
        {
          "output_type": "stream",
          "name": "stdout",
          "text": [
            "Number of words in the text file: 15\n"
          ]
        }
      ]
    },
    {
      "cell_type": "code",
      "source": [
        "# 24 -> A Dice\n",
        "import random\n",
        "\n",
        "def generate_random_number():\n",
        "    return random.randint(1, 6)\n",
        "\n",
        "random_number = generate_random_number()\n",
        "print(\"Generated random number:\", random_number)\n"
      ],
      "metadata": {
        "colab": {
          "base_uri": "https://localhost:8080/"
        },
        "id": "NP7A2hRI2Tu9",
        "outputId": "42867114-c073-4334-c5e5-def2e000b721"
      },
      "execution_count": 25,
      "outputs": [
        {
          "output_type": "stream",
          "name": "stdout",
          "text": [
            "Generated random number: 3\n"
          ]
        }
      ]
    },
    {
      "cell_type": "code",
      "source": [
        "# 25 -> program to perform all operations on stack\n",
        "class Stack:\n",
        "    def __init__(self):\n",
        "        self.items = []\n",
        "\n",
        "    def is_empty(self):\n",
        "        return len(self.items) == 0\n",
        "\n",
        "    def push(self, item):\n",
        "        self.items.append(item)\n",
        "        print(f\"Pushed: {item}\")\n",
        "\n",
        "    def pop(self):\n",
        "        if not self.is_empty():\n",
        "            popped_item = self.items.pop()\n",
        "            print(f\"Popped: {popped_item}\")\n",
        "            return popped_item\n",
        "        else:\n",
        "            print(\"Stack is empty. Cannot pop.\")\n",
        "\n",
        "    def peek(self):\n",
        "        if not self.is_empty():\n",
        "            return self.items[-1]\n",
        "        else:\n",
        "            print(\"Stack is empty. Cannot peek.\")\n",
        "\n",
        "    def display(self):\n",
        "        if not self.is_empty():\n",
        "            print(\"Stack contents:\")\n",
        "            for item in reversed(self.items):\n",
        "                print(item)\n",
        "        else:\n",
        "            print(\"Stack is empty.\")\n",
        "\n",
        "stack = Stack()\n",
        "stack.push(1)\n",
        "stack.push(2)\n",
        "stack.push(3)\n",
        "stack.display()\n",
        "\n",
        "peeked_item = stack.peek()\n",
        "print(f\"Peeked: {peeked_item}\")\n",
        "\n",
        "popped_item = stack.pop()\n",
        "print(f\"Popped: {popped_item}\")\n",
        "\n",
        "stack.display()\n"
      ],
      "metadata": {
        "colab": {
          "base_uri": "https://localhost:8080/"
        },
        "id": "iD2kq9P61c2w",
        "outputId": "44e8a623-7198-4065-ba32-0792e15088bc"
      },
      "execution_count": 23,
      "outputs": [
        {
          "output_type": "stream",
          "name": "stdout",
          "text": [
            "Pushed: 1\n",
            "Pushed: 2\n",
            "Pushed: 3\n",
            "Stack contents:\n",
            "3\n",
            "2\n",
            "1\n",
            "Peeked: 3\n",
            "Popped: 3\n",
            "Popped: 3\n",
            "Stack contents:\n",
            "2\n",
            "1\n"
          ]
        }
      ]
    },
    {
      "cell_type": "code",
      "source": [],
      "metadata": {
        "id": "JcTUEaxb1-ok"
      },
      "execution_count": null,
      "outputs": []
    }
  ]
}